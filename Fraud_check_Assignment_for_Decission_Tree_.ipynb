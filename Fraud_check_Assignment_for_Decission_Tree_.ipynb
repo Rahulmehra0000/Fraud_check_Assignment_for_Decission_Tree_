{
  "nbformat": 4,
  "nbformat_minor": 0,
  "metadata": {
    "colab": {
      "name": "Fraud_check_Assignment_for_Decission_Tree_.ipynb",
      "provenance": []
    },
    "kernelspec": {
      "name": "python3",
      "display_name": "Python 3"
    },
    "language_info": {
      "name": "python"
    }
  },
  "cells": [
    {
      "cell_type": "code",
      "metadata": {
        "id": "jGWddWMJhHOn"
      },
      "source": [
        "#Use decision trees to prepare a model on fraud data \n",
        "#treating those who have taxable_income <= 30000 as \"Risky\" and others are \"Good\"\n",
        "\n",
        "#Data Description :\n",
        "\n",
        "#Undergrad : person is under graduated or not\n",
        "#Marital.Status : marital status of a person\n",
        "#Taxable.Income : Taxable income is the amount of how much tax an individual owes to the government \n",
        "#Work Experience : Work experience of an individual person\n",
        "#Urban : Whether that person belongs to urban area or not"
      ],
      "execution_count": 1,
      "outputs": []
    },
    {
      "cell_type": "code",
      "metadata": {
        "id": "J8Jz5S1Ptcny"
      },
      "source": [
        "## Import Libraries\n",
        "import pandas as pd\n",
        "import numpy as np\n",
        "\n",
        "import matplotlib.pyplot as plt\n",
        "from sklearn import datasets  \n",
        "from sklearn.model_selection import train_test_split\n",
        "from sklearn.tree import  DecisionTreeClassifier\n",
        "from sklearn import tree\n",
        "from sklearn.metrics import classification_report\n",
        "from sklearn import preprocessing\n"
      ],
      "execution_count": 2,
      "outputs": []
    },
    {
      "cell_type": "code",
      "metadata": {
        "id": "-c7OfO8ahI9B"
      },
      "source": [
        "df = pd.read_csv('/content/Fraud_check.csv')"
      ],
      "execution_count": null,
      "outputs": []
    },
    {
      "cell_type": "code",
      "metadata": {
        "colab": {
          "base_uri": "https://localhost:8080/",
          "height": 417
        },
        "id": "mLBXLElMhR51",
        "outputId": "f011d74f-b27f-41b8-9fb3-abd964991e4d"
      },
      "source": [
        "df"
      ],
      "execution_count": null,
      "outputs": [
        {
          "output_type": "execute_result",
          "data": {
            "text/html": [
              "<div>\n",
              "<style scoped>\n",
              "    .dataframe tbody tr th:only-of-type {\n",
              "        vertical-align: middle;\n",
              "    }\n",
              "\n",
              "    .dataframe tbody tr th {\n",
              "        vertical-align: top;\n",
              "    }\n",
              "\n",
              "    .dataframe thead th {\n",
              "        text-align: right;\n",
              "    }\n",
              "</style>\n",
              "<table border=\"1\" class=\"dataframe\">\n",
              "  <thead>\n",
              "    <tr style=\"text-align: right;\">\n",
              "      <th></th>\n",
              "      <th>Undergrad</th>\n",
              "      <th>Marital.Status</th>\n",
              "      <th>Taxable.Income</th>\n",
              "      <th>City.Population</th>\n",
              "      <th>Work.Experience</th>\n",
              "      <th>Urban</th>\n",
              "    </tr>\n",
              "  </thead>\n",
              "  <tbody>\n",
              "    <tr>\n",
              "      <th>0</th>\n",
              "      <td>NO</td>\n",
              "      <td>Single</td>\n",
              "      <td>68833</td>\n",
              "      <td>50047</td>\n",
              "      <td>10</td>\n",
              "      <td>YES</td>\n",
              "    </tr>\n",
              "    <tr>\n",
              "      <th>1</th>\n",
              "      <td>YES</td>\n",
              "      <td>Divorced</td>\n",
              "      <td>33700</td>\n",
              "      <td>134075</td>\n",
              "      <td>18</td>\n",
              "      <td>YES</td>\n",
              "    </tr>\n",
              "    <tr>\n",
              "      <th>2</th>\n",
              "      <td>NO</td>\n",
              "      <td>Married</td>\n",
              "      <td>36925</td>\n",
              "      <td>160205</td>\n",
              "      <td>30</td>\n",
              "      <td>YES</td>\n",
              "    </tr>\n",
              "    <tr>\n",
              "      <th>3</th>\n",
              "      <td>YES</td>\n",
              "      <td>Single</td>\n",
              "      <td>50190</td>\n",
              "      <td>193264</td>\n",
              "      <td>15</td>\n",
              "      <td>YES</td>\n",
              "    </tr>\n",
              "    <tr>\n",
              "      <th>4</th>\n",
              "      <td>NO</td>\n",
              "      <td>Married</td>\n",
              "      <td>81002</td>\n",
              "      <td>27533</td>\n",
              "      <td>28</td>\n",
              "      <td>NO</td>\n",
              "    </tr>\n",
              "    <tr>\n",
              "      <th>...</th>\n",
              "      <td>...</td>\n",
              "      <td>...</td>\n",
              "      <td>...</td>\n",
              "      <td>...</td>\n",
              "      <td>...</td>\n",
              "      <td>...</td>\n",
              "    </tr>\n",
              "    <tr>\n",
              "      <th>595</th>\n",
              "      <td>YES</td>\n",
              "      <td>Divorced</td>\n",
              "      <td>76340</td>\n",
              "      <td>39492</td>\n",
              "      <td>7</td>\n",
              "      <td>YES</td>\n",
              "    </tr>\n",
              "    <tr>\n",
              "      <th>596</th>\n",
              "      <td>YES</td>\n",
              "      <td>Divorced</td>\n",
              "      <td>69967</td>\n",
              "      <td>55369</td>\n",
              "      <td>2</td>\n",
              "      <td>YES</td>\n",
              "    </tr>\n",
              "    <tr>\n",
              "      <th>597</th>\n",
              "      <td>NO</td>\n",
              "      <td>Divorced</td>\n",
              "      <td>47334</td>\n",
              "      <td>154058</td>\n",
              "      <td>0</td>\n",
              "      <td>YES</td>\n",
              "    </tr>\n",
              "    <tr>\n",
              "      <th>598</th>\n",
              "      <td>YES</td>\n",
              "      <td>Married</td>\n",
              "      <td>98592</td>\n",
              "      <td>180083</td>\n",
              "      <td>17</td>\n",
              "      <td>NO</td>\n",
              "    </tr>\n",
              "    <tr>\n",
              "      <th>599</th>\n",
              "      <td>NO</td>\n",
              "      <td>Divorced</td>\n",
              "      <td>96519</td>\n",
              "      <td>158137</td>\n",
              "      <td>16</td>\n",
              "      <td>NO</td>\n",
              "    </tr>\n",
              "  </tbody>\n",
              "</table>\n",
              "<p>600 rows × 6 columns</p>\n",
              "</div>"
            ],
            "text/plain": [
              "    Undergrad Marital.Status  ...  Work.Experience  Urban\n",
              "0          NO         Single  ...               10    YES\n",
              "1         YES       Divorced  ...               18    YES\n",
              "2          NO        Married  ...               30    YES\n",
              "3         YES         Single  ...               15    YES\n",
              "4          NO        Married  ...               28     NO\n",
              "..        ...            ...  ...              ...    ...\n",
              "595       YES       Divorced  ...                7    YES\n",
              "596       YES       Divorced  ...                2    YES\n",
              "597        NO       Divorced  ...                0    YES\n",
              "598       YES        Married  ...               17     NO\n",
              "599        NO       Divorced  ...               16     NO\n",
              "\n",
              "[600 rows x 6 columns]"
            ]
          },
          "metadata": {
            "tags": []
          },
          "execution_count": 3
        }
      ]
    },
    {
      "cell_type": "code",
      "metadata": {
        "id": "gLCWaxc_hYEA"
      },
      "source": [
        "#Creating dummy vairables for ['Undergrad','Marital.Status','Urban'] dropping first dummy variable\n",
        "Df=pd.get_dummies(df,columns=['Undergrad','Marital.Status','Urban'],drop_first=True)"
      ],
      "execution_count": null,
      "outputs": []
    },
    {
      "cell_type": "code",
      "metadata": {
        "colab": {
          "base_uri": "https://localhost:8080/",
          "height": 417
        },
        "id": "0r3nID-xhh5m",
        "outputId": "14cadca0-42f3-4e4c-88eb-a41d28ea5a6a"
      },
      "source": [
        "Df"
      ],
      "execution_count": null,
      "outputs": [
        {
          "output_type": "execute_result",
          "data": {
            "text/html": [
              "<div>\n",
              "<style scoped>\n",
              "    .dataframe tbody tr th:only-of-type {\n",
              "        vertical-align: middle;\n",
              "    }\n",
              "\n",
              "    .dataframe tbody tr th {\n",
              "        vertical-align: top;\n",
              "    }\n",
              "\n",
              "    .dataframe thead th {\n",
              "        text-align: right;\n",
              "    }\n",
              "</style>\n",
              "<table border=\"1\" class=\"dataframe\">\n",
              "  <thead>\n",
              "    <tr style=\"text-align: right;\">\n",
              "      <th></th>\n",
              "      <th>Taxable.Income</th>\n",
              "      <th>City.Population</th>\n",
              "      <th>Work.Experience</th>\n",
              "      <th>Undergrad_YES</th>\n",
              "      <th>Marital.Status_Married</th>\n",
              "      <th>Marital.Status_Single</th>\n",
              "      <th>Urban_YES</th>\n",
              "    </tr>\n",
              "  </thead>\n",
              "  <tbody>\n",
              "    <tr>\n",
              "      <th>0</th>\n",
              "      <td>68833</td>\n",
              "      <td>50047</td>\n",
              "      <td>10</td>\n",
              "      <td>0</td>\n",
              "      <td>0</td>\n",
              "      <td>1</td>\n",
              "      <td>1</td>\n",
              "    </tr>\n",
              "    <tr>\n",
              "      <th>1</th>\n",
              "      <td>33700</td>\n",
              "      <td>134075</td>\n",
              "      <td>18</td>\n",
              "      <td>1</td>\n",
              "      <td>0</td>\n",
              "      <td>0</td>\n",
              "      <td>1</td>\n",
              "    </tr>\n",
              "    <tr>\n",
              "      <th>2</th>\n",
              "      <td>36925</td>\n",
              "      <td>160205</td>\n",
              "      <td>30</td>\n",
              "      <td>0</td>\n",
              "      <td>1</td>\n",
              "      <td>0</td>\n",
              "      <td>1</td>\n",
              "    </tr>\n",
              "    <tr>\n",
              "      <th>3</th>\n",
              "      <td>50190</td>\n",
              "      <td>193264</td>\n",
              "      <td>15</td>\n",
              "      <td>1</td>\n",
              "      <td>0</td>\n",
              "      <td>1</td>\n",
              "      <td>1</td>\n",
              "    </tr>\n",
              "    <tr>\n",
              "      <th>4</th>\n",
              "      <td>81002</td>\n",
              "      <td>27533</td>\n",
              "      <td>28</td>\n",
              "      <td>0</td>\n",
              "      <td>1</td>\n",
              "      <td>0</td>\n",
              "      <td>0</td>\n",
              "    </tr>\n",
              "    <tr>\n",
              "      <th>...</th>\n",
              "      <td>...</td>\n",
              "      <td>...</td>\n",
              "      <td>...</td>\n",
              "      <td>...</td>\n",
              "      <td>...</td>\n",
              "      <td>...</td>\n",
              "      <td>...</td>\n",
              "    </tr>\n",
              "    <tr>\n",
              "      <th>595</th>\n",
              "      <td>76340</td>\n",
              "      <td>39492</td>\n",
              "      <td>7</td>\n",
              "      <td>1</td>\n",
              "      <td>0</td>\n",
              "      <td>0</td>\n",
              "      <td>1</td>\n",
              "    </tr>\n",
              "    <tr>\n",
              "      <th>596</th>\n",
              "      <td>69967</td>\n",
              "      <td>55369</td>\n",
              "      <td>2</td>\n",
              "      <td>1</td>\n",
              "      <td>0</td>\n",
              "      <td>0</td>\n",
              "      <td>1</td>\n",
              "    </tr>\n",
              "    <tr>\n",
              "      <th>597</th>\n",
              "      <td>47334</td>\n",
              "      <td>154058</td>\n",
              "      <td>0</td>\n",
              "      <td>0</td>\n",
              "      <td>0</td>\n",
              "      <td>0</td>\n",
              "      <td>1</td>\n",
              "    </tr>\n",
              "    <tr>\n",
              "      <th>598</th>\n",
              "      <td>98592</td>\n",
              "      <td>180083</td>\n",
              "      <td>17</td>\n",
              "      <td>1</td>\n",
              "      <td>1</td>\n",
              "      <td>0</td>\n",
              "      <td>0</td>\n",
              "    </tr>\n",
              "    <tr>\n",
              "      <th>599</th>\n",
              "      <td>96519</td>\n",
              "      <td>158137</td>\n",
              "      <td>16</td>\n",
              "      <td>0</td>\n",
              "      <td>0</td>\n",
              "      <td>0</td>\n",
              "      <td>0</td>\n",
              "    </tr>\n",
              "  </tbody>\n",
              "</table>\n",
              "<p>600 rows × 7 columns</p>\n",
              "</div>"
            ],
            "text/plain": [
              "     Taxable.Income  City.Population  ...  Marital.Status_Single  Urban_YES\n",
              "0             68833            50047  ...                      1          1\n",
              "1             33700           134075  ...                      0          1\n",
              "2             36925           160205  ...                      0          1\n",
              "3             50190           193264  ...                      1          1\n",
              "4             81002            27533  ...                      0          0\n",
              "..              ...              ...  ...                    ...        ...\n",
              "595           76340            39492  ...                      0          1\n",
              "596           69967            55369  ...                      0          1\n",
              "597           47334           154058  ...                      0          1\n",
              "598           98592           180083  ...                      0          0\n",
              "599           96519           158137  ...                      0          0\n",
              "\n",
              "[600 rows x 7 columns]"
            ]
          },
          "metadata": {
            "tags": []
          },
          "execution_count": 5
        }
      ]
    },
    {
      "cell_type": "code",
      "metadata": {
        "colab": {
          "base_uri": "https://localhost:8080/"
        },
        "id": "TRiPUVHJj0gg",
        "outputId": "083107e5-aa1c-47e6-b3e5-b03ab8c4e1af"
      },
      "source": [
        "Df['Taxable.Income']"
      ],
      "execution_count": null,
      "outputs": [
        {
          "output_type": "execute_result",
          "data": {
            "text/plain": [
              "0      68833\n",
              "1      33700\n",
              "2      36925\n",
              "3      50190\n",
              "4      81002\n",
              "       ...  \n",
              "595    76340\n",
              "596    69967\n",
              "597    47334\n",
              "598    98592\n",
              "599    96519\n",
              "Name: Taxable.Income, Length: 600, dtype: int64"
            ]
          },
          "metadata": {
            "tags": []
          },
          "execution_count": 6
        }
      ]
    },
    {
      "cell_type": "code",
      "metadata": {
        "id": "SePs9oHhhivy"
      },
      "source": [
        "#Creating new cols TaxInc and dividing 'Taxable.Income' cols on the basis of [10002,30000,99620] for Risky and Good\n",
        "Df[\"TaxInc\"] = pd.cut(df[\"Taxable.Income\"], bins = [10002,30000,99620], labels = [\"Risky\", \"Good\"])"
      ],
      "execution_count": null,
      "outputs": []
    },
    {
      "cell_type": "code",
      "metadata": {
        "colab": {
          "base_uri": "https://localhost:8080/",
          "height": 417
        },
        "id": "jeYg4E-Uk-hq",
        "outputId": "1c135613-8aeb-408f-989d-05b23fad74d3"
      },
      "source": [
        "Df"
      ],
      "execution_count": null,
      "outputs": [
        {
          "output_type": "execute_result",
          "data": {
            "text/html": [
              "<div>\n",
              "<style scoped>\n",
              "    .dataframe tbody tr th:only-of-type {\n",
              "        vertical-align: middle;\n",
              "    }\n",
              "\n",
              "    .dataframe tbody tr th {\n",
              "        vertical-align: top;\n",
              "    }\n",
              "\n",
              "    .dataframe thead th {\n",
              "        text-align: right;\n",
              "    }\n",
              "</style>\n",
              "<table border=\"1\" class=\"dataframe\">\n",
              "  <thead>\n",
              "    <tr style=\"text-align: right;\">\n",
              "      <th></th>\n",
              "      <th>Taxable.Income</th>\n",
              "      <th>City.Population</th>\n",
              "      <th>Work.Experience</th>\n",
              "      <th>Undergrad_YES</th>\n",
              "      <th>Marital.Status_Married</th>\n",
              "      <th>Marital.Status_Single</th>\n",
              "      <th>Urban_YES</th>\n",
              "      <th>TaxInc</th>\n",
              "    </tr>\n",
              "  </thead>\n",
              "  <tbody>\n",
              "    <tr>\n",
              "      <th>0</th>\n",
              "      <td>68833</td>\n",
              "      <td>50047</td>\n",
              "      <td>10</td>\n",
              "      <td>0</td>\n",
              "      <td>0</td>\n",
              "      <td>1</td>\n",
              "      <td>1</td>\n",
              "      <td>Good</td>\n",
              "    </tr>\n",
              "    <tr>\n",
              "      <th>1</th>\n",
              "      <td>33700</td>\n",
              "      <td>134075</td>\n",
              "      <td>18</td>\n",
              "      <td>1</td>\n",
              "      <td>0</td>\n",
              "      <td>0</td>\n",
              "      <td>1</td>\n",
              "      <td>Good</td>\n",
              "    </tr>\n",
              "    <tr>\n",
              "      <th>2</th>\n",
              "      <td>36925</td>\n",
              "      <td>160205</td>\n",
              "      <td>30</td>\n",
              "      <td>0</td>\n",
              "      <td>1</td>\n",
              "      <td>0</td>\n",
              "      <td>1</td>\n",
              "      <td>Good</td>\n",
              "    </tr>\n",
              "    <tr>\n",
              "      <th>3</th>\n",
              "      <td>50190</td>\n",
              "      <td>193264</td>\n",
              "      <td>15</td>\n",
              "      <td>1</td>\n",
              "      <td>0</td>\n",
              "      <td>1</td>\n",
              "      <td>1</td>\n",
              "      <td>Good</td>\n",
              "    </tr>\n",
              "    <tr>\n",
              "      <th>4</th>\n",
              "      <td>81002</td>\n",
              "      <td>27533</td>\n",
              "      <td>28</td>\n",
              "      <td>0</td>\n",
              "      <td>1</td>\n",
              "      <td>0</td>\n",
              "      <td>0</td>\n",
              "      <td>Good</td>\n",
              "    </tr>\n",
              "    <tr>\n",
              "      <th>...</th>\n",
              "      <td>...</td>\n",
              "      <td>...</td>\n",
              "      <td>...</td>\n",
              "      <td>...</td>\n",
              "      <td>...</td>\n",
              "      <td>...</td>\n",
              "      <td>...</td>\n",
              "      <td>...</td>\n",
              "    </tr>\n",
              "    <tr>\n",
              "      <th>595</th>\n",
              "      <td>76340</td>\n",
              "      <td>39492</td>\n",
              "      <td>7</td>\n",
              "      <td>1</td>\n",
              "      <td>0</td>\n",
              "      <td>0</td>\n",
              "      <td>1</td>\n",
              "      <td>Good</td>\n",
              "    </tr>\n",
              "    <tr>\n",
              "      <th>596</th>\n",
              "      <td>69967</td>\n",
              "      <td>55369</td>\n",
              "      <td>2</td>\n",
              "      <td>1</td>\n",
              "      <td>0</td>\n",
              "      <td>0</td>\n",
              "      <td>1</td>\n",
              "      <td>Good</td>\n",
              "    </tr>\n",
              "    <tr>\n",
              "      <th>597</th>\n",
              "      <td>47334</td>\n",
              "      <td>154058</td>\n",
              "      <td>0</td>\n",
              "      <td>0</td>\n",
              "      <td>0</td>\n",
              "      <td>0</td>\n",
              "      <td>1</td>\n",
              "      <td>Good</td>\n",
              "    </tr>\n",
              "    <tr>\n",
              "      <th>598</th>\n",
              "      <td>98592</td>\n",
              "      <td>180083</td>\n",
              "      <td>17</td>\n",
              "      <td>1</td>\n",
              "      <td>1</td>\n",
              "      <td>0</td>\n",
              "      <td>0</td>\n",
              "      <td>Good</td>\n",
              "    </tr>\n",
              "    <tr>\n",
              "      <th>599</th>\n",
              "      <td>96519</td>\n",
              "      <td>158137</td>\n",
              "      <td>16</td>\n",
              "      <td>0</td>\n",
              "      <td>0</td>\n",
              "      <td>0</td>\n",
              "      <td>0</td>\n",
              "      <td>Good</td>\n",
              "    </tr>\n",
              "  </tbody>\n",
              "</table>\n",
              "<p>600 rows × 8 columns</p>\n",
              "</div>"
            ],
            "text/plain": [
              "     Taxable.Income  City.Population  ...  Urban_YES  TaxInc\n",
              "0             68833            50047  ...          1    Good\n",
              "1             33700           134075  ...          1    Good\n",
              "2             36925           160205  ...          1    Good\n",
              "3             50190           193264  ...          1    Good\n",
              "4             81002            27533  ...          0    Good\n",
              "..              ...              ...  ...        ...     ...\n",
              "595           76340            39492  ...          1    Good\n",
              "596           69967            55369  ...          1    Good\n",
              "597           47334           154058  ...          1    Good\n",
              "598           98592           180083  ...          0    Good\n",
              "599           96519           158137  ...          0    Good\n",
              "\n",
              "[600 rows x 8 columns]"
            ]
          },
          "metadata": {
            "tags": []
          },
          "execution_count": 8
        }
      ]
    },
    {
      "cell_type": "code",
      "metadata": {
        "colab": {
          "base_uri": "https://localhost:8080/"
        },
        "id": "bCNzl8S3qU4m",
        "outputId": "cd8f9a9e-0b56-4680-925b-81054aec8c80"
      },
      "source": [
        "Df['TaxInc'].value_counts()"
      ],
      "execution_count": null,
      "outputs": [
        {
          "output_type": "execute_result",
          "data": {
            "text/plain": [
              "Good     476\n",
              "Risky    124\n",
              "Name: TaxInc, dtype: int64"
            ]
          },
          "metadata": {
            "tags": []
          },
          "execution_count": 9
        }
      ]
    },
    {
      "cell_type": "code",
      "metadata": {
        "id": "ITk6NokhqRQr"
      },
      "source": [
        "DF= pd.get_dummies(Df,columns=['TaxInc'],drop_first=True)"
      ],
      "execution_count": null,
      "outputs": []
    },
    {
      "cell_type": "code",
      "metadata": {
        "colab": {
          "base_uri": "https://localhost:8080/",
          "height": 417
        },
        "id": "5dvLbyzYs7-j",
        "outputId": "81f7e889-758e-4ddc-8627-a1b80fa03304"
      },
      "source": [
        "DF"
      ],
      "execution_count": null,
      "outputs": [
        {
          "output_type": "execute_result",
          "data": {
            "text/html": [
              "<div>\n",
              "<style scoped>\n",
              "    .dataframe tbody tr th:only-of-type {\n",
              "        vertical-align: middle;\n",
              "    }\n",
              "\n",
              "    .dataframe tbody tr th {\n",
              "        vertical-align: top;\n",
              "    }\n",
              "\n",
              "    .dataframe thead th {\n",
              "        text-align: right;\n",
              "    }\n",
              "</style>\n",
              "<table border=\"1\" class=\"dataframe\">\n",
              "  <thead>\n",
              "    <tr style=\"text-align: right;\">\n",
              "      <th></th>\n",
              "      <th>Taxable.Income</th>\n",
              "      <th>City.Population</th>\n",
              "      <th>Work.Experience</th>\n",
              "      <th>Undergrad_YES</th>\n",
              "      <th>Marital.Status_Married</th>\n",
              "      <th>Marital.Status_Single</th>\n",
              "      <th>Urban_YES</th>\n",
              "      <th>TaxInc_Good</th>\n",
              "    </tr>\n",
              "  </thead>\n",
              "  <tbody>\n",
              "    <tr>\n",
              "      <th>0</th>\n",
              "      <td>68833</td>\n",
              "      <td>50047</td>\n",
              "      <td>10</td>\n",
              "      <td>0</td>\n",
              "      <td>0</td>\n",
              "      <td>1</td>\n",
              "      <td>1</td>\n",
              "      <td>1</td>\n",
              "    </tr>\n",
              "    <tr>\n",
              "      <th>1</th>\n",
              "      <td>33700</td>\n",
              "      <td>134075</td>\n",
              "      <td>18</td>\n",
              "      <td>1</td>\n",
              "      <td>0</td>\n",
              "      <td>0</td>\n",
              "      <td>1</td>\n",
              "      <td>1</td>\n",
              "    </tr>\n",
              "    <tr>\n",
              "      <th>2</th>\n",
              "      <td>36925</td>\n",
              "      <td>160205</td>\n",
              "      <td>30</td>\n",
              "      <td>0</td>\n",
              "      <td>1</td>\n",
              "      <td>0</td>\n",
              "      <td>1</td>\n",
              "      <td>1</td>\n",
              "    </tr>\n",
              "    <tr>\n",
              "      <th>3</th>\n",
              "      <td>50190</td>\n",
              "      <td>193264</td>\n",
              "      <td>15</td>\n",
              "      <td>1</td>\n",
              "      <td>0</td>\n",
              "      <td>1</td>\n",
              "      <td>1</td>\n",
              "      <td>1</td>\n",
              "    </tr>\n",
              "    <tr>\n",
              "      <th>4</th>\n",
              "      <td>81002</td>\n",
              "      <td>27533</td>\n",
              "      <td>28</td>\n",
              "      <td>0</td>\n",
              "      <td>1</td>\n",
              "      <td>0</td>\n",
              "      <td>0</td>\n",
              "      <td>1</td>\n",
              "    </tr>\n",
              "    <tr>\n",
              "      <th>...</th>\n",
              "      <td>...</td>\n",
              "      <td>...</td>\n",
              "      <td>...</td>\n",
              "      <td>...</td>\n",
              "      <td>...</td>\n",
              "      <td>...</td>\n",
              "      <td>...</td>\n",
              "      <td>...</td>\n",
              "    </tr>\n",
              "    <tr>\n",
              "      <th>595</th>\n",
              "      <td>76340</td>\n",
              "      <td>39492</td>\n",
              "      <td>7</td>\n",
              "      <td>1</td>\n",
              "      <td>0</td>\n",
              "      <td>0</td>\n",
              "      <td>1</td>\n",
              "      <td>1</td>\n",
              "    </tr>\n",
              "    <tr>\n",
              "      <th>596</th>\n",
              "      <td>69967</td>\n",
              "      <td>55369</td>\n",
              "      <td>2</td>\n",
              "      <td>1</td>\n",
              "      <td>0</td>\n",
              "      <td>0</td>\n",
              "      <td>1</td>\n",
              "      <td>1</td>\n",
              "    </tr>\n",
              "    <tr>\n",
              "      <th>597</th>\n",
              "      <td>47334</td>\n",
              "      <td>154058</td>\n",
              "      <td>0</td>\n",
              "      <td>0</td>\n",
              "      <td>0</td>\n",
              "      <td>0</td>\n",
              "      <td>1</td>\n",
              "      <td>1</td>\n",
              "    </tr>\n",
              "    <tr>\n",
              "      <th>598</th>\n",
              "      <td>98592</td>\n",
              "      <td>180083</td>\n",
              "      <td>17</td>\n",
              "      <td>1</td>\n",
              "      <td>1</td>\n",
              "      <td>0</td>\n",
              "      <td>0</td>\n",
              "      <td>1</td>\n",
              "    </tr>\n",
              "    <tr>\n",
              "      <th>599</th>\n",
              "      <td>96519</td>\n",
              "      <td>158137</td>\n",
              "      <td>16</td>\n",
              "      <td>0</td>\n",
              "      <td>0</td>\n",
              "      <td>0</td>\n",
              "      <td>0</td>\n",
              "      <td>1</td>\n",
              "    </tr>\n",
              "  </tbody>\n",
              "</table>\n",
              "<p>600 rows × 8 columns</p>\n",
              "</div>"
            ],
            "text/plain": [
              "     Taxable.Income  City.Population  ...  Urban_YES  TaxInc_Good\n",
              "0             68833            50047  ...          1            1\n",
              "1             33700           134075  ...          1            1\n",
              "2             36925           160205  ...          1            1\n",
              "3             50190           193264  ...          1            1\n",
              "4             81002            27533  ...          0            1\n",
              "..              ...              ...  ...        ...          ...\n",
              "595           76340            39492  ...          1            1\n",
              "596           69967            55369  ...          1            1\n",
              "597           47334           154058  ...          1            1\n",
              "598           98592           180083  ...          0            1\n",
              "599           96519           158137  ...          0            1\n",
              "\n",
              "[600 rows x 8 columns]"
            ]
          },
          "metadata": {
            "tags": []
          },
          "execution_count": 11
        }
      ]
    },
    {
      "cell_type": "code",
      "metadata": {
        "id": "EgfWluR5s86-"
      },
      "source": [
        "DF=DF.rename({'Marital.Status_Married': 'MaritalStatus_Married','Marital.Status_Single':'MaritalStatus_Single','Taxable.Income':'TaxableIncome','City.Population':'CityPopulation','Work.Experience':'WorkExperience'}, axis=1)"
      ],
      "execution_count": null,
      "outputs": []
    },
    {
      "cell_type": "code",
      "metadata": {
        "colab": {
          "base_uri": "https://localhost:8080/",
          "height": 417
        },
        "id": "ZGf3aui0udZV",
        "outputId": "bfcb0ff7-83d1-4d27-a7b4-992a02b9f108"
      },
      "source": [
        "DF"
      ],
      "execution_count": null,
      "outputs": [
        {
          "output_type": "execute_result",
          "data": {
            "text/html": [
              "<div>\n",
              "<style scoped>\n",
              "    .dataframe tbody tr th:only-of-type {\n",
              "        vertical-align: middle;\n",
              "    }\n",
              "\n",
              "    .dataframe tbody tr th {\n",
              "        vertical-align: top;\n",
              "    }\n",
              "\n",
              "    .dataframe thead th {\n",
              "        text-align: right;\n",
              "    }\n",
              "</style>\n",
              "<table border=\"1\" class=\"dataframe\">\n",
              "  <thead>\n",
              "    <tr style=\"text-align: right;\">\n",
              "      <th></th>\n",
              "      <th>TaxableIncome</th>\n",
              "      <th>CityPopulation</th>\n",
              "      <th>WorkExperience</th>\n",
              "      <th>Undergrad_YES</th>\n",
              "      <th>MaritalStatus_Married</th>\n",
              "      <th>MaritalStatus_Single</th>\n",
              "      <th>Urban_YES</th>\n",
              "      <th>TaxInc_Good</th>\n",
              "    </tr>\n",
              "  </thead>\n",
              "  <tbody>\n",
              "    <tr>\n",
              "      <th>0</th>\n",
              "      <td>68833</td>\n",
              "      <td>50047</td>\n",
              "      <td>10</td>\n",
              "      <td>0</td>\n",
              "      <td>0</td>\n",
              "      <td>1</td>\n",
              "      <td>1</td>\n",
              "      <td>1</td>\n",
              "    </tr>\n",
              "    <tr>\n",
              "      <th>1</th>\n",
              "      <td>33700</td>\n",
              "      <td>134075</td>\n",
              "      <td>18</td>\n",
              "      <td>1</td>\n",
              "      <td>0</td>\n",
              "      <td>0</td>\n",
              "      <td>1</td>\n",
              "      <td>1</td>\n",
              "    </tr>\n",
              "    <tr>\n",
              "      <th>2</th>\n",
              "      <td>36925</td>\n",
              "      <td>160205</td>\n",
              "      <td>30</td>\n",
              "      <td>0</td>\n",
              "      <td>1</td>\n",
              "      <td>0</td>\n",
              "      <td>1</td>\n",
              "      <td>1</td>\n",
              "    </tr>\n",
              "    <tr>\n",
              "      <th>3</th>\n",
              "      <td>50190</td>\n",
              "      <td>193264</td>\n",
              "      <td>15</td>\n",
              "      <td>1</td>\n",
              "      <td>0</td>\n",
              "      <td>1</td>\n",
              "      <td>1</td>\n",
              "      <td>1</td>\n",
              "    </tr>\n",
              "    <tr>\n",
              "      <th>4</th>\n",
              "      <td>81002</td>\n",
              "      <td>27533</td>\n",
              "      <td>28</td>\n",
              "      <td>0</td>\n",
              "      <td>1</td>\n",
              "      <td>0</td>\n",
              "      <td>0</td>\n",
              "      <td>1</td>\n",
              "    </tr>\n",
              "    <tr>\n",
              "      <th>...</th>\n",
              "      <td>...</td>\n",
              "      <td>...</td>\n",
              "      <td>...</td>\n",
              "      <td>...</td>\n",
              "      <td>...</td>\n",
              "      <td>...</td>\n",
              "      <td>...</td>\n",
              "      <td>...</td>\n",
              "    </tr>\n",
              "    <tr>\n",
              "      <th>595</th>\n",
              "      <td>76340</td>\n",
              "      <td>39492</td>\n",
              "      <td>7</td>\n",
              "      <td>1</td>\n",
              "      <td>0</td>\n",
              "      <td>0</td>\n",
              "      <td>1</td>\n",
              "      <td>1</td>\n",
              "    </tr>\n",
              "    <tr>\n",
              "      <th>596</th>\n",
              "      <td>69967</td>\n",
              "      <td>55369</td>\n",
              "      <td>2</td>\n",
              "      <td>1</td>\n",
              "      <td>0</td>\n",
              "      <td>0</td>\n",
              "      <td>1</td>\n",
              "      <td>1</td>\n",
              "    </tr>\n",
              "    <tr>\n",
              "      <th>597</th>\n",
              "      <td>47334</td>\n",
              "      <td>154058</td>\n",
              "      <td>0</td>\n",
              "      <td>0</td>\n",
              "      <td>0</td>\n",
              "      <td>0</td>\n",
              "      <td>1</td>\n",
              "      <td>1</td>\n",
              "    </tr>\n",
              "    <tr>\n",
              "      <th>598</th>\n",
              "      <td>98592</td>\n",
              "      <td>180083</td>\n",
              "      <td>17</td>\n",
              "      <td>1</td>\n",
              "      <td>1</td>\n",
              "      <td>0</td>\n",
              "      <td>0</td>\n",
              "      <td>1</td>\n",
              "    </tr>\n",
              "    <tr>\n",
              "      <th>599</th>\n",
              "      <td>96519</td>\n",
              "      <td>158137</td>\n",
              "      <td>16</td>\n",
              "      <td>0</td>\n",
              "      <td>0</td>\n",
              "      <td>0</td>\n",
              "      <td>0</td>\n",
              "      <td>1</td>\n",
              "    </tr>\n",
              "  </tbody>\n",
              "</table>\n",
              "<p>600 rows × 8 columns</p>\n",
              "</div>"
            ],
            "text/plain": [
              "     TaxableIncome  CityPopulation  ...  Urban_YES  TaxInc_Good\n",
              "0            68833           50047  ...          1            1\n",
              "1            33700          134075  ...          1            1\n",
              "2            36925          160205  ...          1            1\n",
              "3            50190          193264  ...          1            1\n",
              "4            81002           27533  ...          0            1\n",
              "..             ...             ...  ...        ...          ...\n",
              "595          76340           39492  ...          1            1\n",
              "596          69967           55369  ...          1            1\n",
              "597          47334          154058  ...          1            1\n",
              "598          98592          180083  ...          0            1\n",
              "599          96519          158137  ...          0            1\n",
              "\n",
              "[600 rows x 8 columns]"
            ]
          },
          "metadata": {
            "tags": []
          },
          "execution_count": 13
        }
      ]
    },
    {
      "cell_type": "code",
      "metadata": {
        "colab": {
          "base_uri": "https://localhost:8080/"
        },
        "id": "5qIqMCwSwdlE",
        "outputId": "31ea0803-b7c6-4d24-8648-c14a08a85bd3"
      },
      "source": [
        "DF.info()"
      ],
      "execution_count": null,
      "outputs": [
        {
          "output_type": "stream",
          "text": [
            "<class 'pandas.core.frame.DataFrame'>\n",
            "RangeIndex: 600 entries, 0 to 599\n",
            "Data columns (total 8 columns):\n",
            " #   Column                 Non-Null Count  Dtype\n",
            "---  ------                 --------------  -----\n",
            " 0   TaxableIncome          600 non-null    int64\n",
            " 1   CityPopulation         600 non-null    int64\n",
            " 2   WorkExperience         600 non-null    int64\n",
            " 3   Undergrad_YES          600 non-null    uint8\n",
            " 4   MaritalStatus_Married  600 non-null    uint8\n",
            " 5   MaritalStatus_Single   600 non-null    uint8\n",
            " 6   Urban_YES              600 non-null    uint8\n",
            " 7   TaxInc_Good            600 non-null    uint8\n",
            "dtypes: int64(3), uint8(5)\n",
            "memory usage: 17.1 KB\n"
          ],
          "name": "stdout"
        }
      ]
    },
    {
      "cell_type": "code",
      "metadata": {
        "colab": {
          "base_uri": "https://localhost:8080/"
        },
        "id": "ioIchrYjueQ9",
        "outputId": "6aa146b3-9613-4f41-860a-37a8cf0728fa"
      },
      "source": [
        "DF['TaxInc_Good'].value_counts()"
      ],
      "execution_count": null,
      "outputs": [
        {
          "output_type": "execute_result",
          "data": {
            "text/plain": [
              "1    476\n",
              "0    124\n",
              "Name: TaxInc_Good, dtype: int64"
            ]
          },
          "metadata": {
            "tags": []
          },
          "execution_count": 15
        }
      ]
    },
    {
      "cell_type": "code",
      "metadata": {
        "id": "GUJ3kUQZwYEl"
      },
      "source": [
        "x=DF.iloc[:,0:7]\n",
        "y=DF['TaxInc_Good']"
      ],
      "execution_count": null,
      "outputs": []
    },
    {
      "cell_type": "code",
      "metadata": {
        "colab": {
          "base_uri": "https://localhost:8080/",
          "height": 417
        },
        "id": "-56Akj4jxdQ2",
        "outputId": "a49038ac-dad7-4f6a-dbe6-cb7bba75a01b"
      },
      "source": [
        "x"
      ],
      "execution_count": null,
      "outputs": [
        {
          "output_type": "execute_result",
          "data": {
            "text/html": [
              "<div>\n",
              "<style scoped>\n",
              "    .dataframe tbody tr th:only-of-type {\n",
              "        vertical-align: middle;\n",
              "    }\n",
              "\n",
              "    .dataframe tbody tr th {\n",
              "        vertical-align: top;\n",
              "    }\n",
              "\n",
              "    .dataframe thead th {\n",
              "        text-align: right;\n",
              "    }\n",
              "</style>\n",
              "<table border=\"1\" class=\"dataframe\">\n",
              "  <thead>\n",
              "    <tr style=\"text-align: right;\">\n",
              "      <th></th>\n",
              "      <th>TaxableIncome</th>\n",
              "      <th>CityPopulation</th>\n",
              "      <th>WorkExperience</th>\n",
              "      <th>Undergrad_YES</th>\n",
              "      <th>MaritalStatus_Married</th>\n",
              "      <th>MaritalStatus_Single</th>\n",
              "      <th>Urban_YES</th>\n",
              "    </tr>\n",
              "  </thead>\n",
              "  <tbody>\n",
              "    <tr>\n",
              "      <th>0</th>\n",
              "      <td>68833</td>\n",
              "      <td>50047</td>\n",
              "      <td>10</td>\n",
              "      <td>0</td>\n",
              "      <td>0</td>\n",
              "      <td>1</td>\n",
              "      <td>1</td>\n",
              "    </tr>\n",
              "    <tr>\n",
              "      <th>1</th>\n",
              "      <td>33700</td>\n",
              "      <td>134075</td>\n",
              "      <td>18</td>\n",
              "      <td>1</td>\n",
              "      <td>0</td>\n",
              "      <td>0</td>\n",
              "      <td>1</td>\n",
              "    </tr>\n",
              "    <tr>\n",
              "      <th>2</th>\n",
              "      <td>36925</td>\n",
              "      <td>160205</td>\n",
              "      <td>30</td>\n",
              "      <td>0</td>\n",
              "      <td>1</td>\n",
              "      <td>0</td>\n",
              "      <td>1</td>\n",
              "    </tr>\n",
              "    <tr>\n",
              "      <th>3</th>\n",
              "      <td>50190</td>\n",
              "      <td>193264</td>\n",
              "      <td>15</td>\n",
              "      <td>1</td>\n",
              "      <td>0</td>\n",
              "      <td>1</td>\n",
              "      <td>1</td>\n",
              "    </tr>\n",
              "    <tr>\n",
              "      <th>4</th>\n",
              "      <td>81002</td>\n",
              "      <td>27533</td>\n",
              "      <td>28</td>\n",
              "      <td>0</td>\n",
              "      <td>1</td>\n",
              "      <td>0</td>\n",
              "      <td>0</td>\n",
              "    </tr>\n",
              "    <tr>\n",
              "      <th>...</th>\n",
              "      <td>...</td>\n",
              "      <td>...</td>\n",
              "      <td>...</td>\n",
              "      <td>...</td>\n",
              "      <td>...</td>\n",
              "      <td>...</td>\n",
              "      <td>...</td>\n",
              "    </tr>\n",
              "    <tr>\n",
              "      <th>595</th>\n",
              "      <td>76340</td>\n",
              "      <td>39492</td>\n",
              "      <td>7</td>\n",
              "      <td>1</td>\n",
              "      <td>0</td>\n",
              "      <td>0</td>\n",
              "      <td>1</td>\n",
              "    </tr>\n",
              "    <tr>\n",
              "      <th>596</th>\n",
              "      <td>69967</td>\n",
              "      <td>55369</td>\n",
              "      <td>2</td>\n",
              "      <td>1</td>\n",
              "      <td>0</td>\n",
              "      <td>0</td>\n",
              "      <td>1</td>\n",
              "    </tr>\n",
              "    <tr>\n",
              "      <th>597</th>\n",
              "      <td>47334</td>\n",
              "      <td>154058</td>\n",
              "      <td>0</td>\n",
              "      <td>0</td>\n",
              "      <td>0</td>\n",
              "      <td>0</td>\n",
              "      <td>1</td>\n",
              "    </tr>\n",
              "    <tr>\n",
              "      <th>598</th>\n",
              "      <td>98592</td>\n",
              "      <td>180083</td>\n",
              "      <td>17</td>\n",
              "      <td>1</td>\n",
              "      <td>1</td>\n",
              "      <td>0</td>\n",
              "      <td>0</td>\n",
              "    </tr>\n",
              "    <tr>\n",
              "      <th>599</th>\n",
              "      <td>96519</td>\n",
              "      <td>158137</td>\n",
              "      <td>16</td>\n",
              "      <td>0</td>\n",
              "      <td>0</td>\n",
              "      <td>0</td>\n",
              "      <td>0</td>\n",
              "    </tr>\n",
              "  </tbody>\n",
              "</table>\n",
              "<p>600 rows × 7 columns</p>\n",
              "</div>"
            ],
            "text/plain": [
              "     TaxableIncome  CityPopulation  ...  MaritalStatus_Single  Urban_YES\n",
              "0            68833           50047  ...                     1          1\n",
              "1            33700          134075  ...                     0          1\n",
              "2            36925          160205  ...                     0          1\n",
              "3            50190          193264  ...                     1          1\n",
              "4            81002           27533  ...                     0          0\n",
              "..             ...             ...  ...                   ...        ...\n",
              "595          76340           39492  ...                     0          1\n",
              "596          69967           55369  ...                     0          1\n",
              "597          47334          154058  ...                     0          1\n",
              "598          98592          180083  ...                     0          0\n",
              "599          96519          158137  ...                     0          0\n",
              "\n",
              "[600 rows x 7 columns]"
            ]
          },
          "metadata": {
            "tags": []
          },
          "execution_count": 66
        }
      ]
    },
    {
      "cell_type": "code",
      "metadata": {
        "colab": {
          "base_uri": "https://localhost:8080/"
        },
        "id": "yDpN7defxjPC",
        "outputId": "ca3b9c64-3c3f-40e9-8b0b-6d903cd5ee5b"
      },
      "source": [
        "y"
      ],
      "execution_count": null,
      "outputs": [
        {
          "output_type": "execute_result",
          "data": {
            "text/plain": [
              "0      1\n",
              "1      1\n",
              "2      1\n",
              "3      1\n",
              "4      1\n",
              "      ..\n",
              "595    1\n",
              "596    1\n",
              "597    1\n",
              "598    1\n",
              "599    1\n",
              "Name: TaxInc_Good, Length: 600, dtype: uint8"
            ]
          },
          "metadata": {
            "tags": []
          },
          "execution_count": 67
        }
      ]
    },
    {
      "cell_type": "code",
      "metadata": {
        "id": "PQpkwtqQzAsh"
      },
      "source": [
        "# Splitting data into training and testing data set\n",
        "x_train, x_test,y_train,y_test = train_test_split(x,y, test_size=0.2,random_state=20)"
      ],
      "execution_count": null,
      "outputs": []
    },
    {
      "cell_type": "code",
      "metadata": {
        "colab": {
          "base_uri": "https://localhost:8080/",
          "height": 417
        },
        "id": "7VHQAgjGzLuL",
        "outputId": "f5683377-4c5a-452e-e60b-ada364684e86"
      },
      "source": [
        "x_train"
      ],
      "execution_count": null,
      "outputs": [
        {
          "output_type": "execute_result",
          "data": {
            "text/html": [
              "<div>\n",
              "<style scoped>\n",
              "    .dataframe tbody tr th:only-of-type {\n",
              "        vertical-align: middle;\n",
              "    }\n",
              "\n",
              "    .dataframe tbody tr th {\n",
              "        vertical-align: top;\n",
              "    }\n",
              "\n",
              "    .dataframe thead th {\n",
              "        text-align: right;\n",
              "    }\n",
              "</style>\n",
              "<table border=\"1\" class=\"dataframe\">\n",
              "  <thead>\n",
              "    <tr style=\"text-align: right;\">\n",
              "      <th></th>\n",
              "      <th>TaxableIncome</th>\n",
              "      <th>CityPopulation</th>\n",
              "      <th>WorkExperience</th>\n",
              "      <th>Undergrad_YES</th>\n",
              "      <th>MaritalStatus_Married</th>\n",
              "      <th>MaritalStatus_Single</th>\n",
              "      <th>Urban_YES</th>\n",
              "    </tr>\n",
              "  </thead>\n",
              "  <tbody>\n",
              "    <tr>\n",
              "      <th>121</th>\n",
              "      <td>20391</td>\n",
              "      <td>86648</td>\n",
              "      <td>16</td>\n",
              "      <td>1</td>\n",
              "      <td>1</td>\n",
              "      <td>0</td>\n",
              "      <td>1</td>\n",
              "    </tr>\n",
              "    <tr>\n",
              "      <th>263</th>\n",
              "      <td>70712</td>\n",
              "      <td>69386</td>\n",
              "      <td>21</td>\n",
              "      <td>1</td>\n",
              "      <td>1</td>\n",
              "      <td>0</td>\n",
              "      <td>1</td>\n",
              "    </tr>\n",
              "    <tr>\n",
              "      <th>197</th>\n",
              "      <td>66905</td>\n",
              "      <td>98056</td>\n",
              "      <td>4</td>\n",
              "      <td>0</td>\n",
              "      <td>0</td>\n",
              "      <td>1</td>\n",
              "      <td>1</td>\n",
              "    </tr>\n",
              "    <tr>\n",
              "      <th>93</th>\n",
              "      <td>15296</td>\n",
              "      <td>137676</td>\n",
              "      <td>3</td>\n",
              "      <td>1</td>\n",
              "      <td>1</td>\n",
              "      <td>0</td>\n",
              "      <td>1</td>\n",
              "    </tr>\n",
              "    <tr>\n",
              "      <th>74</th>\n",
              "      <td>32434</td>\n",
              "      <td>182319</td>\n",
              "      <td>17</td>\n",
              "      <td>0</td>\n",
              "      <td>0</td>\n",
              "      <td>0</td>\n",
              "      <td>0</td>\n",
              "    </tr>\n",
              "    <tr>\n",
              "      <th>...</th>\n",
              "      <td>...</td>\n",
              "      <td>...</td>\n",
              "      <td>...</td>\n",
              "      <td>...</td>\n",
              "      <td>...</td>\n",
              "      <td>...</td>\n",
              "      <td>...</td>\n",
              "    </tr>\n",
              "    <tr>\n",
              "      <th>218</th>\n",
              "      <td>57794</td>\n",
              "      <td>38091</td>\n",
              "      <td>19</td>\n",
              "      <td>0</td>\n",
              "      <td>1</td>\n",
              "      <td>0</td>\n",
              "      <td>0</td>\n",
              "    </tr>\n",
              "    <tr>\n",
              "      <th>223</th>\n",
              "      <td>38374</td>\n",
              "      <td>192297</td>\n",
              "      <td>17</td>\n",
              "      <td>1</td>\n",
              "      <td>1</td>\n",
              "      <td>0</td>\n",
              "      <td>1</td>\n",
              "    </tr>\n",
              "    <tr>\n",
              "      <th>271</th>\n",
              "      <td>42254</td>\n",
              "      <td>183682</td>\n",
              "      <td>20</td>\n",
              "      <td>0</td>\n",
              "      <td>0</td>\n",
              "      <td>1</td>\n",
              "      <td>0</td>\n",
              "    </tr>\n",
              "    <tr>\n",
              "      <th>474</th>\n",
              "      <td>99128</td>\n",
              "      <td>80729</td>\n",
              "      <td>0</td>\n",
              "      <td>1</td>\n",
              "      <td>0</td>\n",
              "      <td>0</td>\n",
              "      <td>0</td>\n",
              "    </tr>\n",
              "    <tr>\n",
              "      <th>355</th>\n",
              "      <td>45525</td>\n",
              "      <td>56488</td>\n",
              "      <td>17</td>\n",
              "      <td>1</td>\n",
              "      <td>0</td>\n",
              "      <td>1</td>\n",
              "      <td>0</td>\n",
              "    </tr>\n",
              "  </tbody>\n",
              "</table>\n",
              "<p>480 rows × 7 columns</p>\n",
              "</div>"
            ],
            "text/plain": [
              "     TaxableIncome  CityPopulation  ...  MaritalStatus_Single  Urban_YES\n",
              "121          20391           86648  ...                     0          1\n",
              "263          70712           69386  ...                     0          1\n",
              "197          66905           98056  ...                     1          1\n",
              "93           15296          137676  ...                     0          1\n",
              "74           32434          182319  ...                     0          0\n",
              "..             ...             ...  ...                   ...        ...\n",
              "218          57794           38091  ...                     0          0\n",
              "223          38374          192297  ...                     0          1\n",
              "271          42254          183682  ...                     1          0\n",
              "474          99128           80729  ...                     0          0\n",
              "355          45525           56488  ...                     1          0\n",
              "\n",
              "[480 rows x 7 columns]"
            ]
          },
          "metadata": {
            "tags": []
          },
          "execution_count": 69
        }
      ]
    },
    {
      "cell_type": "code",
      "metadata": {
        "colab": {
          "base_uri": "https://localhost:8080/",
          "height": 417
        },
        "id": "ZZyVRFMDzNkz",
        "outputId": "1294fe1d-5d31-41c2-a28d-8ba88c9d8a23"
      },
      "source": [
        "x_test"
      ],
      "execution_count": null,
      "outputs": [
        {
          "output_type": "execute_result",
          "data": {
            "text/html": [
              "<div>\n",
              "<style scoped>\n",
              "    .dataframe tbody tr th:only-of-type {\n",
              "        vertical-align: middle;\n",
              "    }\n",
              "\n",
              "    .dataframe tbody tr th {\n",
              "        vertical-align: top;\n",
              "    }\n",
              "\n",
              "    .dataframe thead th {\n",
              "        text-align: right;\n",
              "    }\n",
              "</style>\n",
              "<table border=\"1\" class=\"dataframe\">\n",
              "  <thead>\n",
              "    <tr style=\"text-align: right;\">\n",
              "      <th></th>\n",
              "      <th>TaxableIncome</th>\n",
              "      <th>CityPopulation</th>\n",
              "      <th>WorkExperience</th>\n",
              "      <th>Undergrad_YES</th>\n",
              "      <th>MaritalStatus_Married</th>\n",
              "      <th>MaritalStatus_Single</th>\n",
              "      <th>Urban_YES</th>\n",
              "    </tr>\n",
              "  </thead>\n",
              "  <tbody>\n",
              "    <tr>\n",
              "      <th>493</th>\n",
              "      <td>17183</td>\n",
              "      <td>103226</td>\n",
              "      <td>29</td>\n",
              "      <td>0</td>\n",
              "      <td>1</td>\n",
              "      <td>0</td>\n",
              "      <td>0</td>\n",
              "    </tr>\n",
              "    <tr>\n",
              "      <th>172</th>\n",
              "      <td>13068</td>\n",
              "      <td>52819</td>\n",
              "      <td>23</td>\n",
              "      <td>0</td>\n",
              "      <td>1</td>\n",
              "      <td>0</td>\n",
              "      <td>1</td>\n",
              "    </tr>\n",
              "    <tr>\n",
              "      <th>352</th>\n",
              "      <td>15627</td>\n",
              "      <td>72115</td>\n",
              "      <td>16</td>\n",
              "      <td>0</td>\n",
              "      <td>0</td>\n",
              "      <td>0</td>\n",
              "      <td>1</td>\n",
              "    </tr>\n",
              "    <tr>\n",
              "      <th>506</th>\n",
              "      <td>23884</td>\n",
              "      <td>111105</td>\n",
              "      <td>8</td>\n",
              "      <td>0</td>\n",
              "      <td>0</td>\n",
              "      <td>1</td>\n",
              "      <td>1</td>\n",
              "    </tr>\n",
              "    <tr>\n",
              "      <th>595</th>\n",
              "      <td>76340</td>\n",
              "      <td>39492</td>\n",
              "      <td>7</td>\n",
              "      <td>1</td>\n",
              "      <td>0</td>\n",
              "      <td>0</td>\n",
              "      <td>1</td>\n",
              "    </tr>\n",
              "    <tr>\n",
              "      <th>...</th>\n",
              "      <td>...</td>\n",
              "      <td>...</td>\n",
              "      <td>...</td>\n",
              "      <td>...</td>\n",
              "      <td>...</td>\n",
              "      <td>...</td>\n",
              "      <td>...</td>\n",
              "    </tr>\n",
              "    <tr>\n",
              "      <th>536</th>\n",
              "      <td>40674</td>\n",
              "      <td>157025</td>\n",
              "      <td>14</td>\n",
              "      <td>0</td>\n",
              "      <td>0</td>\n",
              "      <td>1</td>\n",
              "      <td>0</td>\n",
              "    </tr>\n",
              "    <tr>\n",
              "      <th>422</th>\n",
              "      <td>99311</td>\n",
              "      <td>191983</td>\n",
              "      <td>14</td>\n",
              "      <td>0</td>\n",
              "      <td>0</td>\n",
              "      <td>0</td>\n",
              "      <td>1</td>\n",
              "    </tr>\n",
              "    <tr>\n",
              "      <th>191</th>\n",
              "      <td>70819</td>\n",
              "      <td>176341</td>\n",
              "      <td>7</td>\n",
              "      <td>0</td>\n",
              "      <td>0</td>\n",
              "      <td>1</td>\n",
              "      <td>1</td>\n",
              "    </tr>\n",
              "    <tr>\n",
              "      <th>21</th>\n",
              "      <td>14310</td>\n",
              "      <td>29106</td>\n",
              "      <td>7</td>\n",
              "      <td>1</td>\n",
              "      <td>0</td>\n",
              "      <td>0</td>\n",
              "      <td>1</td>\n",
              "    </tr>\n",
              "    <tr>\n",
              "      <th>105</th>\n",
              "      <td>55873</td>\n",
              "      <td>46893</td>\n",
              "      <td>15</td>\n",
              "      <td>0</td>\n",
              "      <td>0</td>\n",
              "      <td>1</td>\n",
              "      <td>0</td>\n",
              "    </tr>\n",
              "  </tbody>\n",
              "</table>\n",
              "<p>120 rows × 7 columns</p>\n",
              "</div>"
            ],
            "text/plain": [
              "     TaxableIncome  CityPopulation  ...  MaritalStatus_Single  Urban_YES\n",
              "493          17183          103226  ...                     0          0\n",
              "172          13068           52819  ...                     0          1\n",
              "352          15627           72115  ...                     0          1\n",
              "506          23884          111105  ...                     1          1\n",
              "595          76340           39492  ...                     0          1\n",
              "..             ...             ...  ...                   ...        ...\n",
              "536          40674          157025  ...                     1          0\n",
              "422          99311          191983  ...                     0          1\n",
              "191          70819          176341  ...                     1          1\n",
              "21           14310           29106  ...                     0          1\n",
              "105          55873           46893  ...                     1          0\n",
              "\n",
              "[120 rows x 7 columns]"
            ]
          },
          "metadata": {
            "tags": []
          },
          "execution_count": 70
        }
      ]
    },
    {
      "cell_type": "code",
      "metadata": {
        "colab": {
          "base_uri": "https://localhost:8080/"
        },
        "id": "BQEFiRqrzPxX",
        "outputId": "742e0e4b-bc93-4ed8-ec25-32904932643e"
      },
      "source": [
        "y_train"
      ],
      "execution_count": null,
      "outputs": [
        {
          "output_type": "execute_result",
          "data": {
            "text/plain": [
              "121    0\n",
              "263    1\n",
              "197    1\n",
              "93     0\n",
              "74     1\n",
              "      ..\n",
              "218    1\n",
              "223    1\n",
              "271    1\n",
              "474    1\n",
              "355    1\n",
              "Name: TaxInc_Good, Length: 480, dtype: uint8"
            ]
          },
          "metadata": {
            "tags": []
          },
          "execution_count": 71
        }
      ]
    },
    {
      "cell_type": "code",
      "metadata": {
        "colab": {
          "base_uri": "https://localhost:8080/"
        },
        "id": "Su5HKuq5z_bR",
        "outputId": "de2e762a-2f1f-42ca-e583-f1be58c1647a"
      },
      "source": [
        "y_train.value_counts()"
      ],
      "execution_count": null,
      "outputs": [
        {
          "output_type": "execute_result",
          "data": {
            "text/plain": [
              "1    382\n",
              "0     98\n",
              "Name: TaxInc_Good, dtype: int64"
            ]
          },
          "metadata": {
            "tags": []
          },
          "execution_count": 72
        }
      ]
    },
    {
      "cell_type": "code",
      "metadata": {
        "colab": {
          "base_uri": "https://localhost:8080/"
        },
        "id": "UpKL7DZezRgc",
        "outputId": "fc537018-ab47-46e8-fec2-007a31c290f8"
      },
      "source": [
        "y_test"
      ],
      "execution_count": null,
      "outputs": [
        {
          "output_type": "execute_result",
          "data": {
            "text/plain": [
              "493    0\n",
              "172    0\n",
              "352    0\n",
              "506    0\n",
              "595    1\n",
              "      ..\n",
              "536    1\n",
              "422    1\n",
              "191    1\n",
              "21     0\n",
              "105    1\n",
              "Name: TaxInc_Good, Length: 120, dtype: uint8"
            ]
          },
          "metadata": {
            "tags": []
          },
          "execution_count": 73
        }
      ]
    },
    {
      "cell_type": "code",
      "metadata": {
        "colab": {
          "base_uri": "https://localhost:8080/"
        },
        "id": "du3JrYCy0D5h",
        "outputId": "632ba471-6a45-44da-f73b-7a195036ced5"
      },
      "source": [
        "y_test.value_counts()"
      ],
      "execution_count": null,
      "outputs": [
        {
          "output_type": "execute_result",
          "data": {
            "text/plain": [
              "1    94\n",
              "0    26\n",
              "Name: TaxInc_Good, dtype: int64"
            ]
          },
          "metadata": {
            "tags": []
          },
          "execution_count": 74
        }
      ]
    },
    {
      "cell_type": "markdown",
      "metadata": {
        "id": "m9tWxu_nzbhF"
      },
      "source": [
        "# Building Decision Tree Classifier using Entropy Criteria"
      ]
    },
    {
      "cell_type": "code",
      "metadata": {
        "colab": {
          "base_uri": "https://localhost:8080/"
        },
        "id": "Xey30jQxzVtG",
        "outputId": "7337e7fb-df98-4969-c547-9e5e69e58d44"
      },
      "source": [
        "model = DecisionTreeClassifier(criterion = 'entropy',max_depth=3)\n",
        "model.fit(x_train,y_train)"
      ],
      "execution_count": null,
      "outputs": [
        {
          "output_type": "execute_result",
          "data": {
            "text/plain": [
              "DecisionTreeClassifier(ccp_alpha=0.0, class_weight=None, criterion='entropy',\n",
              "                       max_depth=3, max_features=None, max_leaf_nodes=None,\n",
              "                       min_impurity_decrease=0.0, min_impurity_split=None,\n",
              "                       min_samples_leaf=1, min_samples_split=2,\n",
              "                       min_weight_fraction_leaf=0.0, presort='deprecated',\n",
              "                       random_state=None, splitter='best')"
            ]
          },
          "metadata": {
            "tags": []
          },
          "execution_count": 75
        }
      ]
    },
    {
      "cell_type": "code",
      "metadata": {
        "colab": {
          "base_uri": "https://localhost:8080/",
          "height": 248
        },
        "id": "uljsYX6bzhXy",
        "outputId": "c50c66d7-a0c6-4a01-b368-81eff6283846"
      },
      "source": [
        "#PLot the decision tree\n",
        "tree.plot_tree(model);"
      ],
      "execution_count": null,
      "outputs": [
        {
          "output_type": "display_data",
          "data": {
            "image/png": "[encoded data removed]",
            "text/plain": [
              "<Figure size 432x288 with 1 Axes>"
            ]
          },
          "metadata": {
            "tags": [],
            "needs_background": "light"
          }
        }
      ]
    },
    {
      "cell_type": "code",
      "metadata": {
        "colab": {
          "base_uri": "https://localhost:8080/"
        },
        "id": "HljfANzo0TqV",
        "outputId": "9ed2452c-8b25-4118-bb78-6c869c6b91a3"
      },
      "source": [
        "x.columns"
      ],
      "execution_count": null,
      "outputs": [
        {
          "output_type": "execute_result",
          "data": {
            "text/plain": [
              "Index(['TaxableIncome', 'CityPopulation', 'WorkExperience', 'Undergrad_YES',\n",
              "       'MaritalStatus_Married', 'MaritalStatus_Single', 'Urban_YES'],\n",
              "      dtype='object')"
            ]
          },
          "metadata": {
            "tags": []
          },
          "execution_count": 28
        }
      ]
    },
    {
      "cell_type": "code",
      "metadata": {
        "colab": {
          "base_uri": "https://localhost:8080/",
          "height": 403
        },
        "id": "-mGhwbqpzlLZ",
        "outputId": "8240c0b4-fa7f-452f-c032-d5c9f19735d0"
      },
      "source": [
        "fn=['TaxableIncome','CityPopulation','WorkExperience','Undergrad_YES','MaritalStatus_Married', 'MaritalStatus_Single', 'Urban_YES']\n",
        "cn=['1','0']\n",
        "fig, axes = plt.subplots(nrows = 1,ncols = 1,figsize = (4,4), dpi=120)\n",
        "tree.plot_tree(model,\n",
        "               feature_names = fn, \n",
        "               class_names=cn,\n",
        "               filled = True);"
      ],
      "execution_count": null,
      "outputs": [
        {
          "output_type": "display_data",
          "data": {
            "image/png": "[encoded data removed]",
            "text/plain": [
              "<Figure size 480x480 with 1 Axes>"
            ]
          },
          "metadata": {
            "tags": [],
            "needs_background": "light"
          }
        }
      ]
    },
    {
      "cell_type": "code",
      "metadata": {
        "colab": {
          "base_uri": "https://localhost:8080/"
        },
        "id": "kpStIj4111Kd",
        "outputId": "dab8b65a-179c-4495-89aa-53c1be17d778"
      },
      "source": [
        "#Predicting on test data\n",
        "preds = model.predict(x_test) # predicting on test data set \n",
        "pd.Series(preds).value_counts() # getting the count of each category"
      ],
      "execution_count": null,
      "outputs": [
        {
          "output_type": "execute_result",
          "data": {
            "text/plain": [
              "1    94\n",
              "0    26\n",
              "dtype: int64"
            ]
          },
          "metadata": {
            "tags": []
          },
          "execution_count": 40
        }
      ]
    },
    {
      "cell_type": "code",
      "metadata": {
        "colab": {
          "base_uri": "https://localhost:8080/"
        },
        "id": "hlEx_tq82J6c",
        "outputId": "d972dd94-77a1-4d54-942d-3379438c8c44"
      },
      "source": [
        "preds"
      ],
      "execution_count": null,
      "outputs": [
        {
          "output_type": "execute_result",
          "data": {
            "text/plain": [
              "array([0, 0, 0, 0, 1, 1, 1, 1, 0, 1, 1, 1, 1, 1, 1, 1, 1, 1, 1, 1, 1, 1,\n",
              "       0, 1, 0, 1, 1, 1, 1, 1, 1, 1, 0, 1, 0, 1, 1, 1, 1, 1, 0, 1, 1, 1,\n",
              "       1, 1, 0, 1, 1, 1, 1, 0, 1, 1, 0, 1, 1, 0, 1, 1, 0, 1, 1, 1, 1, 1,\n",
              "       0, 1, 0, 1, 1, 0, 1, 1, 1, 1, 0, 1, 1, 1, 1, 1, 1, 1, 0, 1, 1, 1,\n",
              "       1, 1, 1, 0, 1, 0, 1, 1, 1, 1, 0, 1, 1, 1, 1, 1, 1, 1, 1, 1, 0, 1,\n",
              "       1, 0, 1, 1, 1, 1, 1, 1, 0, 1], dtype=uint8)"
            ]
          },
          "metadata": {
            "tags": []
          },
          "execution_count": 41
        }
      ]
    },
    {
      "cell_type": "code",
      "metadata": {
        "colab": {
          "base_uri": "https://localhost:8080/",
          "height": 142
        },
        "id": "8OvDFsOp2WPN",
        "outputId": "269e30ea-8729-4671-913f-1e68c1ab146c"
      },
      "source": [
        "pd.crosstab(y_test,preds) # getting the 2 way table to understand the correct and wrong predictions"
      ],
      "execution_count": null,
      "outputs": [
        {
          "output_type": "execute_result",
          "data": {
            "text/html": [
              "<div>\n",
              "<style scoped>\n",
              "    .dataframe tbody tr th:only-of-type {\n",
              "        vertical-align: middle;\n",
              "    }\n",
              "\n",
              "    .dataframe tbody tr th {\n",
              "        vertical-align: top;\n",
              "    }\n",
              "\n",
              "    .dataframe thead th {\n",
              "        text-align: right;\n",
              "    }\n",
              "</style>\n",
              "<table border=\"1\" class=\"dataframe\">\n",
              "  <thead>\n",
              "    <tr style=\"text-align: right;\">\n",
              "      <th>col_0</th>\n",
              "      <th>0</th>\n",
              "      <th>1</th>\n",
              "    </tr>\n",
              "    <tr>\n",
              "      <th>TaxInc_Good</th>\n",
              "      <th></th>\n",
              "      <th></th>\n",
              "    </tr>\n",
              "  </thead>\n",
              "  <tbody>\n",
              "    <tr>\n",
              "      <th>0</th>\n",
              "      <td>26</td>\n",
              "      <td>0</td>\n",
              "    </tr>\n",
              "    <tr>\n",
              "      <th>1</th>\n",
              "      <td>0</td>\n",
              "      <td>94</td>\n",
              "    </tr>\n",
              "  </tbody>\n",
              "</table>\n",
              "</div>"
            ],
            "text/plain": [
              "col_0         0   1\n",
              "TaxInc_Good        \n",
              "0            26   0\n",
              "1             0  94"
            ]
          },
          "metadata": {
            "tags": []
          },
          "execution_count": 42
        }
      ]
    },
    {
      "cell_type": "code",
      "metadata": {
        "colab": {
          "base_uri": "https://localhost:8080/"
        },
        "id": "isuFCUtM2cIh",
        "outputId": "c8c4355c-83ad-472c-b3a7-7aed1c907754"
      },
      "source": [
        "preds==y_test"
      ],
      "execution_count": null,
      "outputs": [
        {
          "output_type": "execute_result",
          "data": {
            "text/plain": [
              "159    True\n",
              "307    True\n",
              "253    True\n",
              "528    True\n",
              "137    True\n",
              "       ... \n",
              "102    True\n",
              "577    True\n",
              "18     True\n",
              "560    True\n",
              "62     True\n",
              "Name: TaxInc_Good, Length: 120, dtype: bool"
            ]
          },
          "metadata": {
            "tags": []
          },
          "execution_count": 180
        }
      ]
    },
    {
      "cell_type": "code",
      "metadata": {
        "colab": {
          "base_uri": "https://localhost:8080/"
        },
        "id": "yN8YUprE2jhm",
        "outputId": "8c0dce84-0c3a-4021-9ba6-8e6f630ea140"
      },
      "source": [
        "# Accuracy \n",
        "np.mean(preds==y_test)"
      ],
      "execution_count": null,
      "outputs": [
        {
          "output_type": "execute_result",
          "data": {
            "text/plain": [
              "1.0"
            ]
          },
          "metadata": {
            "tags": []
          },
          "execution_count": 44
        }
      ]
    },
    {
      "cell_type": "code",
      "metadata": {
        "colab": {
          "base_uri": "https://localhost:8080/"
        },
        "id": "XEG7hLwp7fkK",
        "outputId": "2a05a1ac-72a8-436a-d503-2197d25d5aa2"
      },
      "source": [
        "model.score(x_train,y_train)"
      ],
      "execution_count": null,
      "outputs": [
        {
          "output_type": "execute_result",
          "data": {
            "text/plain": [
              "1.0"
            ]
          },
          "metadata": {
            "tags": []
          },
          "execution_count": 182
        }
      ]
    },
    {
      "cell_type": "markdown",
      "metadata": {
        "id": "RB3coaMQ2zrU"
      },
      "source": [
        "# Building Decision Tree Classifier (CART) using Gini Criteria"
      ]
    },
    {
      "cell_type": "code",
      "metadata": {
        "id": "Mj41-j7W2xzi"
      },
      "source": [
        "from sklearn.tree import DecisionTreeClassifier\n",
        "model_gini = DecisionTreeClassifier(criterion='gini', max_depth=3)"
      ],
      "execution_count": null,
      "outputs": []
    },
    {
      "cell_type": "code",
      "metadata": {
        "colab": {
          "base_uri": "https://localhost:8080/"
        },
        "id": "wKV5d8ij2qOK",
        "outputId": "bd5148ca-7f5e-4df2-912b-666c02dd21c6"
      },
      "source": [
        "model_gini.fit(x_train, y_train)"
      ],
      "execution_count": null,
      "outputs": [
        {
          "output_type": "execute_result",
          "data": {
            "text/plain": [
              "DecisionTreeClassifier(ccp_alpha=0.0, class_weight=None, criterion='gini',\n",
              "                       max_depth=3, max_features=None, max_leaf_nodes=None,\n",
              "                       min_impurity_decrease=0.0, min_impurity_split=None,\n",
              "                       min_samples_leaf=1, min_samples_split=2,\n",
              "                       min_weight_fraction_leaf=0.0, presort='deprecated',\n",
              "                       random_state=None, splitter='best')"
            ]
          },
          "metadata": {
            "tags": []
          },
          "execution_count": 46
        }
      ]
    },
    {
      "cell_type": "code",
      "metadata": {
        "colab": {
          "base_uri": "https://localhost:8080/"
        },
        "id": "pqYohauE2801",
        "outputId": "73c22ba1-20d6-49cd-ea7f-c6a0f1b92505"
      },
      "source": [
        "#Prediction and computing the accuracy\n",
        "pred=model.predict(x_test)\n",
        "np.mean(preds==y_test)"
      ],
      "execution_count": null,
      "outputs": [
        {
          "output_type": "execute_result",
          "data": {
            "text/plain": [
              "1.0"
            ]
          },
          "metadata": {
            "tags": []
          },
          "execution_count": 47
        }
      ]
    },
    {
      "cell_type": "code",
      "metadata": {
        "id": "G8Ju1YBIyBoW"
      },
      "source": [
        ""
      ],
      "execution_count": null,
      "outputs": []
    },
    {
      "cell_type": "code",
      "metadata": {
        "id": "m9Dp5mvC388U"
      },
      "source": [
        "# Decision Tree Regression\n",
        "from sklearn.tree import DecisionTreeRegressor"
      ],
      "execution_count": null,
      "outputs": []
    },
    {
      "cell_type": "code",
      "metadata": {
        "colab": {
          "base_uri": "https://localhost:8080/",
          "height": 417
        },
        "id": "AA7006Pc5oZw",
        "outputId": "7a06c731-4d92-41d7-b106-174389f18940"
      },
      "source": [
        "df"
      ],
      "execution_count": null,
      "outputs": [
        {
          "output_type": "execute_result",
          "data": {
            "text/html": [
              "<div>\n",
              "<style scoped>\n",
              "    .dataframe tbody tr th:only-of-type {\n",
              "        vertical-align: middle;\n",
              "    }\n",
              "\n",
              "    .dataframe tbody tr th {\n",
              "        vertical-align: top;\n",
              "    }\n",
              "\n",
              "    .dataframe thead th {\n",
              "        text-align: right;\n",
              "    }\n",
              "</style>\n",
              "<table border=\"1\" class=\"dataframe\">\n",
              "  <thead>\n",
              "    <tr style=\"text-align: right;\">\n",
              "      <th></th>\n",
              "      <th>Undergrad</th>\n",
              "      <th>Marital.Status</th>\n",
              "      <th>Taxable.Income</th>\n",
              "      <th>City.Population</th>\n",
              "      <th>Work.Experience</th>\n",
              "      <th>Urban</th>\n",
              "    </tr>\n",
              "  </thead>\n",
              "  <tbody>\n",
              "    <tr>\n",
              "      <th>0</th>\n",
              "      <td>NO</td>\n",
              "      <td>Single</td>\n",
              "      <td>68833</td>\n",
              "      <td>50047</td>\n",
              "      <td>10</td>\n",
              "      <td>YES</td>\n",
              "    </tr>\n",
              "    <tr>\n",
              "      <th>1</th>\n",
              "      <td>YES</td>\n",
              "      <td>Divorced</td>\n",
              "      <td>33700</td>\n",
              "      <td>134075</td>\n",
              "      <td>18</td>\n",
              "      <td>YES</td>\n",
              "    </tr>\n",
              "    <tr>\n",
              "      <th>2</th>\n",
              "      <td>NO</td>\n",
              "      <td>Married</td>\n",
              "      <td>36925</td>\n",
              "      <td>160205</td>\n",
              "      <td>30</td>\n",
              "      <td>YES</td>\n",
              "    </tr>\n",
              "    <tr>\n",
              "      <th>3</th>\n",
              "      <td>YES</td>\n",
              "      <td>Single</td>\n",
              "      <td>50190</td>\n",
              "      <td>193264</td>\n",
              "      <td>15</td>\n",
              "      <td>YES</td>\n",
              "    </tr>\n",
              "    <tr>\n",
              "      <th>4</th>\n",
              "      <td>NO</td>\n",
              "      <td>Married</td>\n",
              "      <td>81002</td>\n",
              "      <td>27533</td>\n",
              "      <td>28</td>\n",
              "      <td>NO</td>\n",
              "    </tr>\n",
              "    <tr>\n",
              "      <th>...</th>\n",
              "      <td>...</td>\n",
              "      <td>...</td>\n",
              "      <td>...</td>\n",
              "      <td>...</td>\n",
              "      <td>...</td>\n",
              "      <td>...</td>\n",
              "    </tr>\n",
              "    <tr>\n",
              "      <th>595</th>\n",
              "      <td>YES</td>\n",
              "      <td>Divorced</td>\n",
              "      <td>76340</td>\n",
              "      <td>39492</td>\n",
              "      <td>7</td>\n",
              "      <td>YES</td>\n",
              "    </tr>\n",
              "    <tr>\n",
              "      <th>596</th>\n",
              "      <td>YES</td>\n",
              "      <td>Divorced</td>\n",
              "      <td>69967</td>\n",
              "      <td>55369</td>\n",
              "      <td>2</td>\n",
              "      <td>YES</td>\n",
              "    </tr>\n",
              "    <tr>\n",
              "      <th>597</th>\n",
              "      <td>NO</td>\n",
              "      <td>Divorced</td>\n",
              "      <td>47334</td>\n",
              "      <td>154058</td>\n",
              "      <td>0</td>\n",
              "      <td>YES</td>\n",
              "    </tr>\n",
              "    <tr>\n",
              "      <th>598</th>\n",
              "      <td>YES</td>\n",
              "      <td>Married</td>\n",
              "      <td>98592</td>\n",
              "      <td>180083</td>\n",
              "      <td>17</td>\n",
              "      <td>NO</td>\n",
              "    </tr>\n",
              "    <tr>\n",
              "      <th>599</th>\n",
              "      <td>NO</td>\n",
              "      <td>Divorced</td>\n",
              "      <td>96519</td>\n",
              "      <td>158137</td>\n",
              "      <td>16</td>\n",
              "      <td>NO</td>\n",
              "    </tr>\n",
              "  </tbody>\n",
              "</table>\n",
              "<p>600 rows × 6 columns</p>\n",
              "</div>"
            ],
            "text/plain": [
              "    Undergrad Marital.Status  ...  Work.Experience  Urban\n",
              "0          NO         Single  ...               10    YES\n",
              "1         YES       Divorced  ...               18    YES\n",
              "2          NO        Married  ...               30    YES\n",
              "3         YES         Single  ...               15    YES\n",
              "4          NO        Married  ...               28     NO\n",
              "..        ...            ...  ...              ...    ...\n",
              "595       YES       Divorced  ...                7    YES\n",
              "596       YES       Divorced  ...                2    YES\n",
              "597        NO       Divorced  ...                0    YES\n",
              "598       YES        Married  ...               17     NO\n",
              "599        NO       Divorced  ...               16     NO\n",
              "\n",
              "[600 rows x 6 columns]"
            ]
          },
          "metadata": {
            "tags": []
          },
          "execution_count": 50
        }
      ]
    },
    {
      "cell_type": "code",
      "metadata": {
        "id": "XbXOEUew3AoN"
      },
      "source": [
        "array = df.values\n",
        "X = array[:,[2,3,4]]\n",
        "Y= array[:,5:]"
      ],
      "execution_count": null,
      "outputs": []
    },
    {
      "cell_type": "code",
      "metadata": {
        "colab": {
          "base_uri": "https://localhost:8080/"
        },
        "id": "5eTFfVr134mV",
        "outputId": "20db859f-5f02-4878-fa7f-0b04e6027d18"
      },
      "source": [
        "X"
      ],
      "execution_count": null,
      "outputs": [
        {
          "output_type": "execute_result",
          "data": {
            "text/plain": [
              "array([[68833, 50047, 10],\n",
              "       [33700, 134075, 18],\n",
              "       [36925, 160205, 30],\n",
              "       ...,\n",
              "       [47334, 154058, 0],\n",
              "       [98592, 180083, 17],\n",
              "       [96519, 158137, 16]], dtype=object)"
            ]
          },
          "metadata": {
            "tags": []
          },
          "execution_count": 59
        }
      ]
    },
    {
      "cell_type": "code",
      "metadata": {
        "colab": {
          "base_uri": "https://localhost:8080/"
        },
        "id": "0SEBsyac6UzZ",
        "outputId": "9252dc15-b777-4798-f4a1-dfb26a33256a"
      },
      "source": [
        "Y"
      ],
      "execution_count": null,
      "outputs": [
        {
          "output_type": "execute_result",
          "data": {
            "text/plain": [
              "array([['YES'],\n",
              "       ['YES'],\n",
              "       ['YES'],\n",
              "       ['YES'],\n",
              "       ['NO'],\n",
              "       ['NO'],\n",
              "       ['YES'],\n",
              "       ['YES'],\n",
              "       ['YES'],\n",
              "       ['YES'],\n",
              "       ['YES'],\n",
              "       ['YES'],\n",
              "       ['YES'],\n",
              "       ['YES'],\n",
              "       ['YES'],\n",
              "       ['NO'],\n",
              "       ['NO'],\n",
              "       ['NO'],\n",
              "       ['NO'],\n",
              "       ['YES'],\n",
              "       ['NO'],\n",
              "       ['YES'],\n",
              "       ['NO'],\n",
              "       ['YES'],\n",
              "       ['NO'],\n",
              "       ['YES'],\n",
              "       ['NO'],\n",
              "       ['YES'],\n",
              "       ['YES'],\n",
              "       ['YES'],\n",
              "       ['YES'],\n",
              "       ['NO'],\n",
              "       ['NO'],\n",
              "       ['NO'],\n",
              "       ['YES'],\n",
              "       ['YES'],\n",
              "       ['YES'],\n",
              "       ['YES'],\n",
              "       ['NO'],\n",
              "       ['YES'],\n",
              "       ['YES'],\n",
              "       ['NO'],\n",
              "       ['NO'],\n",
              "       ['NO'],\n",
              "       ['NO'],\n",
              "       ['YES'],\n",
              "       ['YES'],\n",
              "       ['NO'],\n",
              "       ['NO'],\n",
              "       ['YES'],\n",
              "       ['YES'],\n",
              "       ['NO'],\n",
              "       ['NO'],\n",
              "       ['YES'],\n",
              "       ['NO'],\n",
              "       ['YES'],\n",
              "       ['YES'],\n",
              "       ['NO'],\n",
              "       ['NO'],\n",
              "       ['NO'],\n",
              "       ['NO'],\n",
              "       ['NO'],\n",
              "       ['YES'],\n",
              "       ['NO'],\n",
              "       ['NO'],\n",
              "       ['NO'],\n",
              "       ['YES'],\n",
              "       ['NO'],\n",
              "       ['NO'],\n",
              "       ['NO'],\n",
              "       ['YES'],\n",
              "       ['NO'],\n",
              "       ['YES'],\n",
              "       ['YES'],\n",
              "       ['NO'],\n",
              "       ['YES'],\n",
              "       ['NO'],\n",
              "       ['NO'],\n",
              "       ['NO'],\n",
              "       ['YES'],\n",
              "       ['NO'],\n",
              "       ['NO'],\n",
              "       ['YES'],\n",
              "       ['YES'],\n",
              "       ['YES'],\n",
              "       ['YES'],\n",
              "       ['YES'],\n",
              "       ['NO'],\n",
              "       ['YES'],\n",
              "       ['NO'],\n",
              "       ['NO'],\n",
              "       ['YES'],\n",
              "       ['NO'],\n",
              "       ['YES'],\n",
              "       ['YES'],\n",
              "       ['YES'],\n",
              "       ['NO'],\n",
              "       ['YES'],\n",
              "       ['YES'],\n",
              "       ['NO'],\n",
              "       ['NO'],\n",
              "       ['YES'],\n",
              "       ['NO'],\n",
              "       ['YES'],\n",
              "       ['NO'],\n",
              "       ['NO'],\n",
              "       ['YES'],\n",
              "       ['YES'],\n",
              "       ['YES'],\n",
              "       ['YES'],\n",
              "       ['YES'],\n",
              "       ['YES'],\n",
              "       ['YES'],\n",
              "       ['YES'],\n",
              "       ['NO'],\n",
              "       ['YES'],\n",
              "       ['NO'],\n",
              "       ['YES'],\n",
              "       ['NO'],\n",
              "       ['YES'],\n",
              "       ['YES'],\n",
              "       ['YES'],\n",
              "       ['NO'],\n",
              "       ['NO'],\n",
              "       ['NO'],\n",
              "       ['NO'],\n",
              "       ['YES'],\n",
              "       ['YES'],\n",
              "       ['YES'],\n",
              "       ['NO'],\n",
              "       ['YES'],\n",
              "       ['YES'],\n",
              "       ['NO'],\n",
              "       ['YES'],\n",
              "       ['NO'],\n",
              "       ['YES'],\n",
              "       ['NO'],\n",
              "       ['NO'],\n",
              "       ['NO'],\n",
              "       ['NO'],\n",
              "       ['YES'],\n",
              "       ['YES'],\n",
              "       ['YES'],\n",
              "       ['NO'],\n",
              "       ['YES'],\n",
              "       ['YES'],\n",
              "       ['YES'],\n",
              "       ['NO'],\n",
              "       ['NO'],\n",
              "       ['NO'],\n",
              "       ['NO'],\n",
              "       ['NO'],\n",
              "       ['NO'],\n",
              "       ['NO'],\n",
              "       ['YES'],\n",
              "       ['NO'],\n",
              "       ['YES'],\n",
              "       ['NO'],\n",
              "       ['NO'],\n",
              "       ['NO'],\n",
              "       ['YES'],\n",
              "       ['YES'],\n",
              "       ['YES'],\n",
              "       ['YES'],\n",
              "       ['NO'],\n",
              "       ['YES'],\n",
              "       ['YES'],\n",
              "       ['NO'],\n",
              "       ['NO'],\n",
              "       ['YES'],\n",
              "       ['NO'],\n",
              "       ['NO'],\n",
              "       ['YES'],\n",
              "       ['YES'],\n",
              "       ['NO'],\n",
              "       ['NO'],\n",
              "       ['NO'],\n",
              "       ['YES'],\n",
              "       ['YES'],\n",
              "       ['YES'],\n",
              "       ['NO'],\n",
              "       ['NO'],\n",
              "       ['YES'],\n",
              "       ['YES'],\n",
              "       ['YES'],\n",
              "       ['YES'],\n",
              "       ['YES'],\n",
              "       ['YES'],\n",
              "       ['NO'],\n",
              "       ['YES'],\n",
              "       ['NO'],\n",
              "       ['YES'],\n",
              "       ['YES'],\n",
              "       ['NO'],\n",
              "       ['NO'],\n",
              "       ['YES'],\n",
              "       ['NO'],\n",
              "       ['YES'],\n",
              "       ['YES'],\n",
              "       ['YES'],\n",
              "       ['YES'],\n",
              "       ['YES'],\n",
              "       ['YES'],\n",
              "       ['NO'],\n",
              "       ['NO'],\n",
              "       ['YES'],\n",
              "       ['YES'],\n",
              "       ['NO'],\n",
              "       ['NO'],\n",
              "       ['YES'],\n",
              "       ['YES'],\n",
              "       ['YES'],\n",
              "       ['NO'],\n",
              "       ['NO'],\n",
              "       ['NO'],\n",
              "       ['NO'],\n",
              "       ['NO'],\n",
              "       ['YES'],\n",
              "       ['NO'],\n",
              "       ['NO'],\n",
              "       ['NO'],\n",
              "       ['NO'],\n",
              "       ['NO'],\n",
              "       ['YES'],\n",
              "       ['YES'],\n",
              "       ['YES'],\n",
              "       ['NO'],\n",
              "       ['YES'],\n",
              "       ['YES'],\n",
              "       ['NO'],\n",
              "       ['YES'],\n",
              "       ['NO'],\n",
              "       ['NO'],\n",
              "       ['YES'],\n",
              "       ['NO'],\n",
              "       ['NO'],\n",
              "       ['NO'],\n",
              "       ['YES'],\n",
              "       ['YES'],\n",
              "       ['NO'],\n",
              "       ['YES'],\n",
              "       ['YES'],\n",
              "       ['YES'],\n",
              "       ['YES'],\n",
              "       ['NO'],\n",
              "       ['NO'],\n",
              "       ['NO'],\n",
              "       ['NO'],\n",
              "       ['YES'],\n",
              "       ['YES'],\n",
              "       ['NO'],\n",
              "       ['NO'],\n",
              "       ['YES'],\n",
              "       ['NO'],\n",
              "       ['NO'],\n",
              "       ['NO'],\n",
              "       ['NO'],\n",
              "       ['YES'],\n",
              "       ['YES'],\n",
              "       ['NO'],\n",
              "       ['NO'],\n",
              "       ['YES'],\n",
              "       ['NO'],\n",
              "       ['YES'],\n",
              "       ['NO'],\n",
              "       ['YES'],\n",
              "       ['YES'],\n",
              "       ['NO'],\n",
              "       ['YES'],\n",
              "       ['YES'],\n",
              "       ['NO'],\n",
              "       ['NO'],\n",
              "       ['YES'],\n",
              "       ['NO'],\n",
              "       ['NO'],\n",
              "       ['YES'],\n",
              "       ['YES'],\n",
              "       ['NO'],\n",
              "       ['NO'],\n",
              "       ['YES'],\n",
              "       ['NO'],\n",
              "       ['YES'],\n",
              "       ['NO'],\n",
              "       ['NO'],\n",
              "       ['YES'],\n",
              "       ['NO'],\n",
              "       ['NO'],\n",
              "       ['YES'],\n",
              "       ['YES'],\n",
              "       ['NO'],\n",
              "       ['YES'],\n",
              "       ['YES'],\n",
              "       ['YES'],\n",
              "       ['YES'],\n",
              "       ['NO'],\n",
              "       ['NO'],\n",
              "       ['NO'],\n",
              "       ['NO'],\n",
              "       ['YES'],\n",
              "       ['NO'],\n",
              "       ['NO'],\n",
              "       ['NO'],\n",
              "       ['NO'],\n",
              "       ['YES'],\n",
              "       ['YES'],\n",
              "       ['YES'],\n",
              "       ['NO'],\n",
              "       ['NO'],\n",
              "       ['NO'],\n",
              "       ['YES'],\n",
              "       ['YES'],\n",
              "       ['NO'],\n",
              "       ['NO'],\n",
              "       ['NO'],\n",
              "       ['NO'],\n",
              "       ['NO'],\n",
              "       ['NO'],\n",
              "       ['NO'],\n",
              "       ['YES'],\n",
              "       ['YES'],\n",
              "       ['YES'],\n",
              "       ['YES'],\n",
              "       ['YES'],\n",
              "       ['NO'],\n",
              "       ['NO'],\n",
              "       ['YES'],\n",
              "       ['YES'],\n",
              "       ['NO'],\n",
              "       ['YES'],\n",
              "       ['NO'],\n",
              "       ['NO'],\n",
              "       ['YES'],\n",
              "       ['NO'],\n",
              "       ['YES'],\n",
              "       ['YES'],\n",
              "       ['NO'],\n",
              "       ['NO'],\n",
              "       ['NO'],\n",
              "       ['NO'],\n",
              "       ['NO'],\n",
              "       ['YES'],\n",
              "       ['YES'],\n",
              "       ['YES'],\n",
              "       ['NO'],\n",
              "       ['YES'],\n",
              "       ['NO'],\n",
              "       ['YES'],\n",
              "       ['YES'],\n",
              "       ['NO'],\n",
              "       ['YES'],\n",
              "       ['NO'],\n",
              "       ['NO'],\n",
              "       ['YES'],\n",
              "       ['NO'],\n",
              "       ['YES'],\n",
              "       ['NO'],\n",
              "       ['NO'],\n",
              "       ['NO'],\n",
              "       ['YES'],\n",
              "       ['NO'],\n",
              "       ['YES'],\n",
              "       ['NO'],\n",
              "       ['YES'],\n",
              "       ['YES'],\n",
              "       ['NO'],\n",
              "       ['YES'],\n",
              "       ['NO'],\n",
              "       ['YES'],\n",
              "       ['NO'],\n",
              "       ['NO'],\n",
              "       ['YES'],\n",
              "       ['NO'],\n",
              "       ['NO'],\n",
              "       ['YES'],\n",
              "       ['YES'],\n",
              "       ['NO'],\n",
              "       ['NO'],\n",
              "       ['NO'],\n",
              "       ['NO'],\n",
              "       ['NO'],\n",
              "       ['NO'],\n",
              "       ['NO'],\n",
              "       ['NO'],\n",
              "       ['YES'],\n",
              "       ['NO'],\n",
              "       ['NO'],\n",
              "       ['YES'],\n",
              "       ['YES'],\n",
              "       ['YES'],\n",
              "       ['YES'],\n",
              "       ['NO'],\n",
              "       ['NO'],\n",
              "       ['NO'],\n",
              "       ['YES'],\n",
              "       ['YES'],\n",
              "       ['NO'],\n",
              "       ['NO'],\n",
              "       ['YES'],\n",
              "       ['YES'],\n",
              "       ['NO'],\n",
              "       ['NO'],\n",
              "       ['NO'],\n",
              "       ['NO'],\n",
              "       ['YES'],\n",
              "       ['YES'],\n",
              "       ['NO'],\n",
              "       ['NO'],\n",
              "       ['NO'],\n",
              "       ['NO'],\n",
              "       ['NO'],\n",
              "       ['NO'],\n",
              "       ['NO'],\n",
              "       ['NO'],\n",
              "       ['YES'],\n",
              "       ['YES'],\n",
              "       ['NO'],\n",
              "       ['NO'],\n",
              "       ['NO'],\n",
              "       ['NO'],\n",
              "       ['NO'],\n",
              "       ['NO'],\n",
              "       ['NO'],\n",
              "       ['YES'],\n",
              "       ['YES'],\n",
              "       ['YES'],\n",
              "       ['NO'],\n",
              "       ['YES'],\n",
              "       ['NO'],\n",
              "       ['YES'],\n",
              "       ['YES'],\n",
              "       ['NO'],\n",
              "       ['YES'],\n",
              "       ['YES'],\n",
              "       ['YES'],\n",
              "       ['YES'],\n",
              "       ['YES'],\n",
              "       ['YES'],\n",
              "       ['YES'],\n",
              "       ['NO'],\n",
              "       ['NO'],\n",
              "       ['YES'],\n",
              "       ['NO'],\n",
              "       ['NO'],\n",
              "       ['NO'],\n",
              "       ['NO'],\n",
              "       ['NO'],\n",
              "       ['NO'],\n",
              "       ['YES'],\n",
              "       ['YES'],\n",
              "       ['NO'],\n",
              "       ['YES'],\n",
              "       ['YES'],\n",
              "       ['NO'],\n",
              "       ['NO'],\n",
              "       ['YES'],\n",
              "       ['YES'],\n",
              "       ['YES'],\n",
              "       ['YES'],\n",
              "       ['YES'],\n",
              "       ['NO'],\n",
              "       ['YES'],\n",
              "       ['YES'],\n",
              "       ['NO'],\n",
              "       ['YES'],\n",
              "       ['YES'],\n",
              "       ['NO'],\n",
              "       ['NO'],\n",
              "       ['YES'],\n",
              "       ['YES'],\n",
              "       ['YES'],\n",
              "       ['NO'],\n",
              "       ['YES'],\n",
              "       ['YES'],\n",
              "       ['YES'],\n",
              "       ['NO'],\n",
              "       ['YES'],\n",
              "       ['YES'],\n",
              "       ['NO'],\n",
              "       ['NO'],\n",
              "       ['NO'],\n",
              "       ['YES'],\n",
              "       ['NO'],\n",
              "       ['NO'],\n",
              "       ['NO'],\n",
              "       ['YES'],\n",
              "       ['NO'],\n",
              "       ['YES'],\n",
              "       ['YES'],\n",
              "       ['YES'],\n",
              "       ['NO'],\n",
              "       ['NO'],\n",
              "       ['NO'],\n",
              "       ['YES'],\n",
              "       ['NO'],\n",
              "       ['YES'],\n",
              "       ['NO'],\n",
              "       ['YES'],\n",
              "       ['NO'],\n",
              "       ['YES'],\n",
              "       ['YES'],\n",
              "       ['YES'],\n",
              "       ['YES'],\n",
              "       ['YES'],\n",
              "       ['YES'],\n",
              "       ['YES'],\n",
              "       ['YES'],\n",
              "       ['YES'],\n",
              "       ['YES'],\n",
              "       ['NO'],\n",
              "       ['YES'],\n",
              "       ['YES'],\n",
              "       ['YES'],\n",
              "       ['YES'],\n",
              "       ['NO'],\n",
              "       ['NO'],\n",
              "       ['NO'],\n",
              "       ['YES'],\n",
              "       ['NO'],\n",
              "       ['YES'],\n",
              "       ['YES'],\n",
              "       ['YES'],\n",
              "       ['NO'],\n",
              "       ['NO'],\n",
              "       ['NO'],\n",
              "       ['NO'],\n",
              "       ['NO'],\n",
              "       ['NO'],\n",
              "       ['NO'],\n",
              "       ['NO'],\n",
              "       ['NO'],\n",
              "       ['YES'],\n",
              "       ['YES'],\n",
              "       ['NO'],\n",
              "       ['YES'],\n",
              "       ['YES'],\n",
              "       ['NO'],\n",
              "       ['NO'],\n",
              "       ['NO'],\n",
              "       ['NO'],\n",
              "       ['NO'],\n",
              "       ['NO'],\n",
              "       ['YES'],\n",
              "       ['NO'],\n",
              "       ['NO'],\n",
              "       ['YES'],\n",
              "       ['NO'],\n",
              "       ['NO'],\n",
              "       ['YES'],\n",
              "       ['YES'],\n",
              "       ['YES'],\n",
              "       ['YES'],\n",
              "       ['YES'],\n",
              "       ['YES'],\n",
              "       ['YES'],\n",
              "       ['NO'],\n",
              "       ['NO'],\n",
              "       ['NO'],\n",
              "       ['NO'],\n",
              "       ['YES'],\n",
              "       ['NO'],\n",
              "       ['NO'],\n",
              "       ['YES'],\n",
              "       ['NO'],\n",
              "       ['YES'],\n",
              "       ['YES'],\n",
              "       ['NO'],\n",
              "       ['NO'],\n",
              "       ['NO'],\n",
              "       ['YES'],\n",
              "       ['YES'],\n",
              "       ['YES'],\n",
              "       ['YES'],\n",
              "       ['NO'],\n",
              "       ['NO'],\n",
              "       ['YES'],\n",
              "       ['YES'],\n",
              "       ['YES'],\n",
              "       ['YES'],\n",
              "       ['NO'],\n",
              "       ['YES'],\n",
              "       ['YES'],\n",
              "       ['YES'],\n",
              "       ['YES'],\n",
              "       ['NO'],\n",
              "       ['YES'],\n",
              "       ['YES'],\n",
              "       ['NO'],\n",
              "       ['YES'],\n",
              "       ['YES'],\n",
              "       ['NO'],\n",
              "       ['YES'],\n",
              "       ['YES'],\n",
              "       ['NO'],\n",
              "       ['YES'],\n",
              "       ['YES'],\n",
              "       ['YES'],\n",
              "       ['YES'],\n",
              "       ['YES'],\n",
              "       ['NO'],\n",
              "       ['NO']], dtype=object)"
            ]
          },
          "metadata": {
            "tags": []
          },
          "execution_count": 60
        }
      ]
    },
    {
      "cell_type": "code",
      "metadata": {
        "id": "5d6aJN9A6Vxf"
      },
      "source": [
        "X_train, X_test, y_train, y_test = train_test_split(X, y, test_size=0.33, random_state=1)"
      ],
      "execution_count": null,
      "outputs": []
    },
    {
      "cell_type": "code",
      "metadata": {
        "colab": {
          "base_uri": "https://localhost:8080/"
        },
        "id": "blHibgLd6hol",
        "outputId": "c2c2ea7f-c446-4201-9c56-092e2e8dd5ed"
      },
      "source": [
        "Model = DecisionTreeRegressor()\n",
        "Model.fit(X_train, y_train)"
      ],
      "execution_count": null,
      "outputs": [
        {
          "output_type": "execute_result",
          "data": {
            "text/plain": [
              "DecisionTreeRegressor(ccp_alpha=0.0, criterion='mse', max_depth=None,\n",
              "                      max_features=None, max_leaf_nodes=None,\n",
              "                      min_impurity_decrease=0.0, min_impurity_split=None,\n",
              "                      min_samples_leaf=1, min_samples_split=2,\n",
              "                      min_weight_fraction_leaf=0.0, presort='deprecated',\n",
              "                      random_state=None, splitter='best')"
            ]
          },
          "metadata": {
            "tags": []
          },
          "execution_count": 62
        }
      ]
    },
    {
      "cell_type": "code",
      "metadata": {
        "colab": {
          "base_uri": "https://localhost:8080/"
        },
        "id": "gheWyX786j5A",
        "outputId": "c3769f9f-cbcd-4c7c-da77-a25dd2920df8"
      },
      "source": [
        "#Find the accuracy\n",
        "Model.score(X_test,y_test)\n",
        "## here we used score which is the accuracy for regression problem"
      ],
      "execution_count": null,
      "outputs": [
        {
          "output_type": "execute_result",
          "data": {
            "text/plain": [
              "1.0"
            ]
          },
          "metadata": {
            "tags": []
          },
          "execution_count": 63
        }
      ]
    },
    {
      "cell_type": "code",
      "metadata": {
        "id": "hDjvrXpo6m68"
      },
      "source": [
        ""
      ],
      "execution_count": null,
      "outputs": []
    }
  ]
}